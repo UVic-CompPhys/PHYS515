{
 "cells": [
  {
   "cell_type": "markdown",
   "metadata": {},
   "source": [
    "# Homework 2: Spectral analysis\n",
    "\n",
    "In this notebook we explore the convective and wave motions in terms of their spatial and temporal spectra.  In the final step we will combine spectral and statistical methods and compare how useful they are with regard to characterizing the different types of motions and distinguish between them.\n",
    "\n",
    "We will again\n",
    "* Load the 3D data for a given dump\n",
    "* Extract the 3D velocity components in an already interpolated form on a sphere of given radius\n",
    "\n",
    "We then perform:\n",
    "* A Fourier analysis of the spherically averaged $u_\\mathrm{r}$ magnitude at a given radius \n",
    "* A spectral decomposition of the $u_\\mathrm{r}$ distribution on a sphere at a given radius \n",
    "\n",
    "\n",
    "Familiarize yourself with this template notebook. In the first part the temporal spectrum analysis is demonstrated, and in the second part the spatial analysis is demonstrated. Then use this template to explore the following questions. \n",
    "\n",
    "#### Questions\n",
    "1. What is the main difference between the $u_r$ spatial spectra for convective and wave regions?\n",
    "    * Quantify the key difference in the following way:\n",
    "        - take the asymetric moving average of the power\n",
    "        - find the $l$ for which the power is maximum\n",
    "    * Implement this _metric_ as a function that can be added into a data analysis pipeline in a python script.\n",
    "2. Create temporal spectra for different radii, including in the wave region, in the convection region and in the transition region. \n",
    "    * How does the length of the time series impact the spectrum? You can check that by modifying the `dump_max` variable in the demo code below.\n",
    "    * How does the time step size impact the spectrum? You can vary that simply by choosing a larger value for the `step` variable in the demo code below.\n",
    "    * How does the temporal spectrum differ between the convection and wave region? \n",
    "    * Can you find a _metric_ also in this case that would reduce the difference between temporal spectra of the wave region and the convection region? (I could not, so maybe you don't want to try too hard. It is not needed for the assignment.) "
   ]
  },
  {
   "cell_type": "code",
   "execution_count": null,
   "metadata": {},
   "outputs": [],
   "source": [
    "%pylab ipympl\n",
    "import os, sys, time\n",
    "from multiprocessing import Pool\n",
    "from scipy import stats\n",
    "from scipy.optimize import curve_fit\n",
    "from scipy.signal import savgol_filter\n",
    "from nugridpy import utils as ut\n",
    "\n",
    "# libraries for spherical harmonics spectra\n",
    "import pyshtools.expand        \n",
    "import pyshtools.spectralanalysis\n",
    "\n",
    "# for use on niagara jupyter \n",
    "#ppmpy_dir = '/scratch/f/fherwig/fherwig/repos/PyPPM'\n",
    "# for use on ppmstar hub on https://www.ppmstar.org\n",
    "ppmpy_dir = \"/user/repos/PyPPM\"\n",
    "\n",
    "sys.path.insert(0,ppmpy_dir)\n",
    "from ppmpy import ppm\n",
    "print(inspect.getfile(ppm))\n",
    "\n",
    "# set cycling combination of color-blind labels, glyphs, styles\n",
    "lll= 2*['-', '--', ':', '-.']\n",
    "markers = ['X','h','<','>','s','^','d','X','p']\n",
    "random.shuffle(lll)\n",
    "cb = ut.linestylecb # colours\n",
    "CB_color_cycle = [cb(i)[2] for i in range(8)]\n",
    "rc('axes', prop_cycle=(cycler('color', CB_color_cycle[0:8]) + cycler('marker',markers[0:8])+cycler('linestyle',lll)))\n",
    "rc('axes', prop_cycle=(cycler('color', CB_color_cycle[0:8]) +cycler('linestyle',lll)))\n",
    "\n",
    "# named tuple for using rprofs and momsdata\n",
    "# moms data are almost always used alongside rprof data and therefore it is recommended \n",
    "# to create a convenient dictionary that will hold the rprof and moms instance \n",
    "import collections\n",
    "hydro = collections.namedtuple('hydro', ['moms','rprof'])\n",
    "\n",
    "# turn off matplotlib messages\n",
    "logging.getLogger(\"matplotlib\").setLevel(logging.CRITICAL)\n",
    "\n",
    "def fig_init(ifig=1):\n",
    "    close(ifig);figure(ifig)"
   ]
  },
  {
   "cell_type": "code",
   "execution_count": null,
   "metadata": {},
   "outputs": [],
   "source": [
    "# there are two data access points\n",
    "# the first is slow but has all dumps, loading one dump takes about 20min\n",
    "data_dir = '/user/niagara.scratch.ppmstar'\n",
    "# the second is faster, but has only these dumps:\n",
    "# 4120  4183  4325  4447  4474  4550\n",
    "# use this as a default\n",
    "data_dir = '/data/ASDR-team/PPMstar/H-core-M25/'\n",
    "run_dir = 'M276-1000x-768'\n",
    "\n",
    "moms_dir = os.path.join(data_dir,run_dir,'moms/myavsbq')\n",
    "rprof_dir = os.path.join(data_dir,run_dir,'prfs')\n",
    "\n",
    "# M276 - a list of variables available in these moms files:\n",
    "var_list = ['xc','ux','uy','uz','|ut|','|ur|','|w|','T','rho','fv'] \n",
    "dump = 4447    # initialize with this dump"
   ]
  },
  {
   "cell_type": "code",
   "execution_count": null,
   "metadata": {},
   "outputs": [],
   "source": [
    "# initialize a collection of an instance of a radial profile and 3D briquette data set (called \"moms\" data)\n",
    "start_time = time.time()\n",
    "myrun = hydro(ppm.MomsDataSet(moms_dir,init_dump_read=dump,dumps_in_mem=2,var_list=var_list,\\\n",
    "                              rprofset=ppm.RprofSet(rprof_dir),verbose=0),ppm.RprofSet(rprof_dir))\n",
    "end_time = time.time()\n",
    "print(f\"Execution time: {end_time - start_time} seconds\")"
   ]
  },
  {
   "cell_type": "code",
   "execution_count": null,
   "metadata": {},
   "outputs": [],
   "source": [
    "rph = myrun.rprof.get_history()\n",
    "# rph.get_variables()"
   ]
  },
  {
   "cell_type": "code",
   "execution_count": null,
   "metadata": {},
   "outputs": [],
   "source": [
    "# make sure that the dumps are at equidistant times so that the DFT routines will work\n",
    "# we can only do the DFT in the second part, with smaller time steps\n",
    "fig_init(302)\n",
    "plot(rph.get('NDump'),rph.get('time(mins)'))\n",
    "mod_minmax_dft = (3060,6560)"
   ]
  },
  {
   "cell_type": "code",
   "execution_count": null,
   "metadata": {},
   "outputs": [],
   "source": [
    "# check radial profiles visually for any available radial profile quantity\n",
    "myrun.rprof.rprofgui(ifig=1,title=run_dir)"
   ]
  },
  {
   "cell_type": "markdown",
   "metadata": {},
   "source": [
    "## Temporal spectrum\n",
    "\n",
    "Try the following analysis for a radius corresponding to the wave region (e.g. 2100) and to the convection region (e.g.1000). Are you able to find a model function that would allow to quantify the presence of a power maximum around $\\nu = 2.5 \\mathrm{\\mu Hz}$?"
   ]
  },
  {
   "cell_type": "code",
   "execution_count": null,
   "metadata": {},
   "outputs": [],
   "source": [
    "# see all variables available in profile data\n",
    "# rp =  myrun.rprof.get_dump(4000)\n",
    "# rp.get_lr_variables()"
   ]
  },
  {
   "cell_type": "code",
   "execution_count": null,
   "metadata": {},
   "outputs": [],
   "source": [
    "myradius=2100\n",
    "radius = myrun.rprof.get('R',fname=4000)\n",
    "# radius"
   ]
  },
  {
   "cell_type": "code",
   "execution_count": null,
   "metadata": {},
   "outputs": [],
   "source": [
    "# find index of radial grid point closest to requested radius\n",
    "ind = ppm.where_near(myradius,radius)\n",
    "radius[ind]"
   ]
  },
  {
   "cell_type": "code",
   "execution_count": null,
   "metadata": {},
   "outputs": [],
   "source": [
    "# extract variable at requested radius for all dumps in dump range\n",
    "# to get time evolution data\n",
    "times = []\n",
    "things = []\n",
    "thing_name = '|Ut|'\n",
    "thing_name = 'lum1'\n",
    "\n",
    "dump_min,dump_max = mod_minmax_dft\n",
    "# dump_max = dump_min + (dump_max-dump_min)//4\n",
    "step = 1\n",
    "radius = myrun.rprof.get('R',dump_min)\n",
    "ind = ppm.where_near(myradius,radius)\n",
    "for dump in range(dump_min,dump_max+1,step):\n",
    "    thing = myrun.rprof.get(thing_name,dump)\n",
    "    things.append(thing[ind])\n",
    "    time = myrun.rprof.get(\"t\", fname=dump)\n",
    "    times.append(time)\n",
    "if thing_name == '|Ut|':\n",
    "    things=array(things)*1000 # make velocities in km/s\n",
    "times = array(times)-times[0]"
   ]
  },
  {
   "cell_type": "code",
   "execution_count": null,
   "metadata": {},
   "outputs": [],
   "source": [
    "# detrend\n",
    "# the luminosity data has a long-term trend due to thermal adjustment that\n",
    "# needs to me removed, with a 2nd-orer poly\n",
    "\n",
    "# Fit a first degree polynomial (straight line)\n",
    "# polyfit returns highest degree coefficient first\n",
    "a, b, c = polyfit(times, things, 2)\n",
    "\n",
    "print(f\"Coefficients a: {a}  b: {b}  c: {c}\")\n",
    "\n",
    "# check data\n",
    "fig_init(23)\n",
    "trend = a*times**2+b*times+c\n",
    "things_detrend = things/trend\n",
    "plot(times,things_detrend,'-')\n"
   ]
  },
  {
   "cell_type": "code",
   "execution_count": null,
   "metadata": {},
   "outputs": [],
   "source": [
    "# Compute the DFT\n",
    "dft = np.fft.fft(things_detrend)\n",
    "\n",
    "# Compute the frequencies\n",
    "N = len(times)\n",
    "time_spacing = times[1] - times[0]\n",
    "frequencies = np.fft.fftfreq(N, time_spacing)\n",
    "\n",
    "# Keep only positive frequencies\n",
    "positive_frequencies = frequencies[:N // 2]\n",
    "positive_dft = dft[:N // 2]\n",
    "\n",
    "# Calculate the power spectrum\n",
    "power_spectrum = np.abs(positive_dft)**2"
   ]
  },
  {
   "cell_type": "code",
   "execution_count": null,
   "metadata": {},
   "outputs": [],
   "source": [
    "fig_init(2201)\n",
    "semilogy(positive_frequencies*1.e6, power_spectrum,'-')\n",
    "xlabel('Frequency ($\\mu$Hz)')\n",
    "ylabel('Power Spectrum')"
   ]
  },
  {
   "cell_type": "code",
   "execution_count": null,
   "metadata": {},
   "outputs": [],
   "source": [
    "# try to find a model function that when fitted reveals the location of\n",
    "# a possible maximum around 2.5muHz in the wave case \n",
    "# I was not able to find such function within reasonable time. Are you?\n",
    "\n",
    "# Define the model function\n",
    "def model_function(x, a0, a1, a2, b, c):\n",
    "    return (a0 + a1 * x + a2 * x**2) * c*np.exp(-b * x)\n",
    "\n",
    "log_positive_frequencies = log10(positive_frequencies[1:]*1.e6)\n",
    "log_power_spectrum       = log10(power_spectrum[1:])\n",
    "\n",
    "# ind_max = where(log_power_spectrum==max(log_power_spectrum))[0][0]\n",
    "# log_positive_frequencies = log_positive_frequencies[ind_max:]\n",
    "# log_power_spectrum       = log_power_spectrum[ind_max:]\n",
    "\n",
    "coefs = polyfit(log_positive_frequencies, log_power_spectrum, 8)\n",
    "print(\"Coefficients:\",coefs)\n",
    "\n",
    "p = poly1d(coefs)\n",
    "\n",
    "# Plotting the data and the fit\n",
    "fig_init(2202)\n",
    "scatter( log_positive_frequencies, log_power_spectrum, label='Data')\n",
    "xx = linspace(log_positive_frequencies[0],log_positive_frequencies[-1],100)\n",
    "plot(xx,p(xx), label='Fitted function', color='red')\n",
    "xlabel('$\\\\log \\\\nu \\\\mathrm{(\\\\mu Hz)}$')\n",
    "ylabel('power')\n",
    "legend()\n",
    "show()\n",
    "\n",
    "# Print the optimized parameters\n",
    "print(f\"Optimized parameters: a = {a:.3f}, b = {b:.3f}\")\n",
    "\n"
   ]
  },
  {
   "cell_type": "markdown",
   "metadata": {},
   "source": [
    "## Spectral decomposition in Spherical Harmonics\n",
    "\n",
    "We will be using the Python package [pyshtools](https://shtools.github.io/SHTOOLS/index.html)."
   ]
  },
  {
   "cell_type": "code",
   "execution_count": null,
   "metadata": {},
   "outputs": [],
   "source": [
    "# check documentation \n",
    "# pyshtools.expand.SHExpandDH?"
   ]
  },
  {
   "cell_type": "code",
   "execution_count": null,
   "metadata": {},
   "outputs": [],
   "source": [
    "# pyshtools.spectralanalysis.spectrum?"
   ]
  },
  {
   "cell_type": "markdown",
   "metadata": {},
   "source": [
    "### Expansion in spherical harmonics"
   ]
  },
  {
   "cell_type": "code",
   "execution_count": null,
   "metadata": {},
   "outputs": [],
   "source": [
    "# store ell and power for different radii in dictionary\n",
    "spatial_specs = {}"
   ]
  },
  {
   "cell_type": "code",
   "execution_count": null,
   "metadata": {},
   "outputs": [],
   "source": [
    "# u_r analysis plots\n",
    "myradius=1200\n",
    "var = '|ur|'\n",
    "\n",
    "# max npoints\n",
    "lmax_r, N, npoints = myrun.moms.sphericalHarmonics_lmax(myradius)\n",
    "print(lmax_r, N, npoints)"
   ]
  },
  {
   "cell_type": "code",
   "execution_count": null,
   "metadata": {},
   "outputs": [],
   "source": [
    "# Calculate spherical harmonics up to lmax\n",
    "var_interp = myrun.moms.sphericalHarmonics_format(var, myradius, lmax=lmax_r)\n",
    "# get coefficients and power\n",
    "coeffs = pyshtools.expand.SHExpandDH(var_interp, sampling=2)\n",
    "power_ell = pyshtools.spectralanalysis.spectrum(coeffs, unit='per_l')\n",
    "ell = np.arange(0, lmax_r+1)\n",
    "spatial_specs[myradius] = [ell[1:],1.e12*power_ell[1:]] # exclude l=0"
   ]
  },
  {
   "cell_type": "code",
   "execution_count": null,
   "metadata": {},
   "outputs": [],
   "source": [
    "myradius=1200\n",
    "fig_init(myradius)\n",
    "\n",
    "loglog(spatial_specs[myradius][0],spatial_specs[myradius][1],'-')\n",
    "ell_scale = 3\n",
    "xx = np.linspace(0.6*ell_scale,0.7*ell[-1],5)\n",
    "fac = 1./(ell_scale**(-5/3))\n",
    "pow_scale = float(spatial_specs[myradius][1][spatial_specs[myradius][0] == ell_scale])\n",
    "pmax = spatial_specs[myradius][1].max()\n",
    "loglog(xx,pow_scale*fac*xx**(-5/3),'--',lw=0.5,)\n",
    "ylim(3*spatial_specs[myradius][1][-1],3*pmax)\n",
    "ylabel(' power / $\\mathrm{[m^2/s^2]}$'); xlabel('$l$')\n",
    "text(1.2*xx[0],0.2*1.e12*pow_scale*fac*xx[1]**(-5/3),'$l^{-5/3}$')\n",
    "\n",
    "# add here the code to find the max of the smoothed power\n"
   ]
  },
  {
   "cell_type": "markdown",
   "metadata": {},
   "source": [
    "## Create script version\n",
    "Create a function that can go into a python mpi script:"
   ]
  },
  {
   "cell_type": "code",
   "execution_count": null,
   "metadata": {},
   "outputs": [],
   "source": []
  }
 ],
 "metadata": {
  "kernelspec": {
   "display_name": "Python 3 (ipykernel)",
   "language": "python",
   "name": "python3"
  },
  "language_info": {
   "codemirror_mode": {
    "name": "ipython",
    "version": 3
   },
   "file_extension": ".py",
   "mimetype": "text/x-python",
   "name": "python",
   "nbconvert_exporter": "python",
   "pygments_lexer": "ipython3",
   "version": "3.9.2"
  }
 },
 "nbformat": 4,
 "nbformat_minor": 4
}
